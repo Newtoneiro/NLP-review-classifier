{
 "cells": [
  {
   "cell_type": "code",
   "execution_count": 1,
   "metadata": {},
   "outputs": [],
   "source": [
    "import os\n",
    "import sys\n",
    "directory_path = os.path.abspath(os.path.join('..'))\n",
    "if directory_path not in sys.path:\n",
    "    sys.path.append(directory_path)"
   ]
  },
  {
   "attachments": {},
   "cell_type": "markdown",
   "metadata": {},
   "source": [
    "# Nazwa zbioru danych\n"
   ]
  },
  {
   "cell_type": "code",
   "execution_count": 2,
   "metadata": {},
   "outputs": [],
   "source": [
    "dataset = os.path.basename(os.getcwd())"
   ]
  },
  {
   "attachments": {},
   "cell_type": "markdown",
   "metadata": {},
   "source": [
    "# Importy\n"
   ]
  },
  {
   "cell_type": "code",
   "execution_count": 14,
   "metadata": {},
   "outputs": [],
   "source": [
    "# data manipulation\n",
    "import pandas as pd\n",
    "import numpy as np\n",
    "\n",
    "# data viz\n",
    "import matplotlib.pyplot as plt\n",
    "from matplotlib import rcParams\n",
    "import seaborn as sns\n",
    "\n",
    "# apply some cool styling\n",
    "plt.style.use(\"ggplot\")\n",
    "rcParams['figure.figsize'] = (12, 6)"
   ]
  },
  {
   "attachments": {},
   "cell_type": "markdown",
   "metadata": {},
   "source": [
    "# Import danych\n"
   ]
  },
  {
   "cell_type": "code",
   "execution_count": 4,
   "metadata": {},
   "outputs": [],
   "source": [
    "# open zip in raw/data.zip and extract file to this folder\n",
    "import zipfile\n",
    "with zipfile.ZipFile(f'../../data/raw/{dataset}.zip', 'r') as zip_ref:\n",
    "    zip_ref.extractall('../../data/raw')"
   ]
  },
  {
   "cell_type": "code",
   "execution_count": 5,
   "metadata": {},
   "outputs": [
    {
     "data": {
      "text/html": [
       "<div>\n",
       "<style scoped>\n",
       "    .dataframe tbody tr th:only-of-type {\n",
       "        vertical-align: middle;\n",
       "    }\n",
       "\n",
       "    .dataframe tbody tr th {\n",
       "        vertical-align: top;\n",
       "    }\n",
       "\n",
       "    .dataframe thead th {\n",
       "        text-align: right;\n",
       "    }\n",
       "</style>\n",
       "<table border=\"1\" class=\"dataframe\">\n",
       "  <thead>\n",
       "    <tr style=\"text-align: right;\">\n",
       "      <th></th>\n",
       "      <th>text</th>\n",
       "      <th>rating</th>\n",
       "    </tr>\n",
       "  </thead>\n",
       "  <tbody>\n",
       "    <tr>\n",
       "      <th>0</th>\n",
       "      <td>We went here with our kids for Xmas holiday an...</td>\n",
       "      <td>4</td>\n",
       "    </tr>\n",
       "    <tr>\n",
       "      <th>1</th>\n",
       "      <td>We have spent in this hotel our summer holiday...</td>\n",
       "      <td>4</td>\n",
       "    </tr>\n",
       "    <tr>\n",
       "      <th>2</th>\n",
       "      <td>I visited Hotel Baltic with my husband for som...</td>\n",
       "      <td>4</td>\n",
       "    </tr>\n",
       "    <tr>\n",
       "      <th>3</th>\n",
       "      <td>I've travelled quite a numbers of hotels but t...</td>\n",
       "      <td>4</td>\n",
       "    </tr>\n",
       "    <tr>\n",
       "      <th>4</th>\n",
       "      <td>We decided for this family holiday destination...</td>\n",
       "      <td>3</td>\n",
       "    </tr>\n",
       "  </tbody>\n",
       "</table>\n",
       "</div>"
      ],
      "text/plain": [
       "                                                text  rating\n",
       "0  We went here with our kids for Xmas holiday an...       4\n",
       "1  We have spent in this hotel our summer holiday...       4\n",
       "2  I visited Hotel Baltic with my husband for som...       4\n",
       "3  I've travelled quite a numbers of hotels but t...       4\n",
       "4  We decided for this family holiday destination...       3"
      ]
     },
     "execution_count": 5,
     "metadata": {},
     "output_type": "execute_result"
    }
   ],
   "source": [
    "raw_data = pd.read_csv(os.path.join(os.getcwd(), f\"../../data/raw/{dataset}.csv\"))\n",
    "raw_data.head()"
   ]
  },
  {
   "attachments": {},
   "cell_type": "markdown",
   "metadata": {},
   "source": [
    "# Analiza danych"
   ]
  },
  {
   "cell_type": "code",
   "execution_count": 6,
   "metadata": {},
   "outputs": [
    {
     "name": "stdout",
     "output_type": "stream",
     "text": [
      "shape: (1000000, 2)\n",
      "<class 'pandas.core.frame.DataFrame'>\n",
      "RangeIndex: 1000000 entries, 0 to 999999\n",
      "Data columns (total 2 columns):\n",
      " #   Column  Non-Null Count    Dtype \n",
      "---  ------  --------------    ----- \n",
      " 0   text    1000000 non-null  object\n",
      " 1   rating  1000000 non-null  int64 \n",
      "dtypes: int64(1), object(1)\n",
      "memory usage: 15.3+ MB\n"
     ]
    }
   ],
   "source": [
    "print(f\"shape: {raw_data.shape}\")\n",
    "raw_data.info()"
   ]
  },
  {
   "attachments": {},
   "cell_type": "markdown",
   "metadata": {},
   "source": [
    "Mamy do czynienia ze zbiorem 1 miliona rekordów, rekordy składają się z opinii tekstowej oraz oceny dyskretnej w skali 0-4. Każda z klas oceny oznacza liczbę gwiazdek którą otrzymał hotel. Wliczenie liczby gwiazdek połączonej do danej opinii tekstowej liczymy ze wzoru wartość + 1. Czyli na przykład opinia o klasie z wartością 4 oznacza opinię pięciogwiazdkową."
   ]
  },
  {
   "cell_type": "code",
   "execution_count": 7,
   "metadata": {},
   "outputs": [
    {
     "name": "stdout",
     "output_type": "stream",
     "text": [
      "duplicates: 38\n"
     ]
    },
    {
     "data": {
      "text/html": [
       "<div>\n",
       "<style scoped>\n",
       "    .dataframe tbody tr th:only-of-type {\n",
       "        vertical-align: middle;\n",
       "    }\n",
       "\n",
       "    .dataframe tbody tr th {\n",
       "        vertical-align: top;\n",
       "    }\n",
       "\n",
       "    .dataframe thead th {\n",
       "        text-align: right;\n",
       "    }\n",
       "</style>\n",
       "<table border=\"1\" class=\"dataframe\">\n",
       "  <thead>\n",
       "    <tr style=\"text-align: right;\">\n",
       "      <th></th>\n",
       "      <th></th>\n",
       "      <th>count</th>\n",
       "    </tr>\n",
       "    <tr>\n",
       "      <th>text</th>\n",
       "      <th>rating</th>\n",
       "      <th></th>\n",
       "    </tr>\n",
       "  </thead>\n",
       "  <tbody>\n",
       "    <tr>\n",
       "      <th>Absolutely fabulous place. Great service, perfect suite very up to date with exceptional disabled room facilities. Me being in wheelchair have found it hard travelling Europe to find great services for my disability. I need a roll in shower and spacious areas. This apartment is absolutely perfect. HUGE shower. The only down side was that my bed was quite low in terms of transferring to my chairs, however staff were brilliant in making the bed higher to suit me. Other than that, fast prompt service with food or whatever you need. So friendly and inviting, had a lovely stay. Highly recommended!!</th>\n",
       "      <th>4</th>\n",
       "      <td>2</td>\n",
       "    </tr>\n",
       "    <tr>\n",
       "      <th>We found this hotel to be great value for money. Was in a great location - close to the metro but only 15 mins walk from the city centre - Notre Dame. Room was big enough for the two of us and we had a nice window that opened out onto the street. Room was very quiet once the window was closed. Staff very friendly and helpful. Fast food outlets just round the corner. Would reccommend this hotel</th>\n",
       "      <th>3</th>\n",
       "      <td>2</td>\n",
       "    </tr>\n",
       "    <tr>\n",
       "      <th>The hotel was very comfortable, clean, friendly, good breakfast, great games room. overall we had a great stay. It's a bit far from the mountain for my liking ( about 20 min to Burke- closest ski hill) Also, pool was too warm for my liking and their hot tub too cold, sauna should have been also warmer, but we couldn't figure out way to make it warmer. They also have liitle gym which is nice.</th>\n",
       "      <th>4</th>\n",
       "      <td>2</td>\n",
       "    </tr>\n",
       "    <tr>\n",
       "      <th>This hotel did not knock my socks off - not by any stretch of the imagination. The rooms were fine nothing to complain of - clean, neat and comfortable. The suite which i was upgraded to was sufficiently spacious. I have stayed in other Hilton Garden Inn's with much nicer rooms/suites, but the standard of comfort remains a priority even at this hotel. The service was good - upon request I was upgraded to a suite, but only because one member of the reception team was far more willing to be helpful than the other. So one staff member counterbalancing the other. Neither were unpleasant. The breakfast was good and the service as is to be expected from HGI. Ultimately, the value received is very high given the proximity to entertainment /airport/ shopping within a 15 min drive.</th>\n",
       "      <th>3</th>\n",
       "      <td>2</td>\n",
       "    </tr>\n",
       "    <tr>\n",
       "      <th>This was my husband and my first week at our Timeshare in the four Seasons at Quinta and we thoroughly enjoyed our time there. The villa is equipped to such a high standard and i very, very comfortable. The whole resort is of as equally high a standard and the resort staff very helpful and friendly. We can't wait to come back again next year.</th>\n",
       "      <th>4</th>\n",
       "      <td>2</td>\n",
       "    </tr>\n",
       "    <tr>\n",
       "      <th>This was our second time back to this hotel and once again we really enjoyed our stay. The front desk gentlemen brought our baby bed as soon as we requested it. The breakfast restaurant menu had good choices to choose from, all included in your room price except for the tip for the servers. The front door wait can be a little long though to be seated. The cleanliness and comfort of the beds and room were awesome. The only complaint I had was that we asked for extra towels and got them about 6 hours later once we had gotten back to our room and had already forgotten about them, with someone just knocking randomly on the door and saying sorry about the delay. We also asked for decaf coffee for the room which most hotels supply both regular and decaf in the room, and just never received it at all. Otherwise great place to stay!</th>\n",
       "      <th>4</th>\n",
       "      <td>2</td>\n",
       "    </tr>\n",
       "    <tr>\n",
       "      <th>Upon arrival to our destination we instantly felt we had entered paradise! Villa Amor is spectacular! Beautiful. Manicured. Spacious. Unique! The staff was meticulous &amp; courteous. The grounds blew us away! Imagine living INSIDE exquisite nature. We took our 4yo son with us who had the time of his life. The hammocks under the banana trees at V.A. were unforgettable, RELAXING moments with him. He LOVED waking up with the sun &amp; venturing to they amazing beach right in front of us! We considered staying outside of town in a small exclusive hotel nearby but we're so happy we chose V.A., right on edge of the village. Highly recommend Villa Amor. You will undoubtedly have an awesome time there.</th>\n",
       "      <th>4</th>\n",
       "      <td>2</td>\n",
       "    </tr>\n",
       "    <tr>\n",
       "      <th>Very good location near Marina , you fiind a lot of bars and restaurants near ! The hotel is nice a little bit old the furniture and in the first day we fiind a big bug in the room! We had a see view room And the sighting was fantastic ! Except the bug wich i think was accidentaly the room was clean , the size of the room and the bathroom was generous for this type of hotel ! If you choice the sea view you are in front tp a very busy and noisy road so if you have problems with sleeping with noises is not the best choice ! The front desk was friendly and helpfull! The breakfast very generous and very tasty !</th>\n",
       "      <th>4</th>\n",
       "      <td>2</td>\n",
       "    </tr>\n",
       "    <tr>\n",
       "      <th>Very nice hotel with restaurant and coffee shop on the ground floor where you can dine or coffee outside if you wish and watch the world go by. We booked a room and was given a suite ,large bedroom and sitting television in each . Within a kilometre all restaurants,shops and amusements are easily available.</th>\n",
       "      <th>4</th>\n",
       "      <td>2</td>\n",
       "    </tr>\n",
       "    <tr>\n",
       "      <th>We had the pleasure of choosing this hotel on our visit to Palma during a tour of Spain. The hotel is spectacular: small, intimate, and luxurious. Breakfast is served on the terrace with incredible views to the ocean, with exquisite, fresh and high quality products. We stayed in a suite with a terrace facing the ocean. The room was spacious, comfortable and had a beautiful bathroom with a modern style. The service in every place of the hotel was impeccable; their employees are friendly and very professional. We had dinner one night at their sister hotel Can Cera and we were so delighted that we repeated it the night after. The hotel's location is very convenient, as it is close to the Cathedral and the main touristic spots of Palma. It was one of the best travelling experiences we have had no doubt about it. We will most definitely be returning soon!!</th>\n",
       "      <th>4</th>\n",
       "      <td>2</td>\n",
       "    </tr>\n",
       "    <tr>\n",
       "      <th>Amazing resort great city. Would like to come back again asap. Great staff, good service, excelent rooms and food. Great value for money. Chandigarh to Puri it was memorable trip. Thanks to Deepak for providing great travel advice and making arrangement for memorable trip to The great city Puri.</th>\n",
       "      <th>4</th>\n",
       "      <td>2</td>\n",
       "    </tr>\n",
       "    <tr>\n",
       "      <th>We stayed at the Jyoti Mahal for 6 nights at the beginning and end of our north India trip and recommend this hotel 100%. The rooms are impeccable, crisp and clean sheets and towels, plus unique décor. Each room is different and full of personality. The owners and their staff were kind, helpful, honest and extremely friendly. Had some great meals at their rooftop restaurant, try the kadai panner. Would definitely stay here again!</th>\n",
       "      <th>4</th>\n",
       "      <td>2</td>\n",
       "    </tr>\n",
       "    <tr>\n",
       "      <th>We stayed in Banys for two nights, just to spend the Weekend in Barcelona and found it very nice and comfortable. I lived for one year in Barcelona and know the city centre very well. Bany Orientals is located perfectly in the heart of the Gótico Area and you really find everything near to you (even Metro and Bus). The value you get for the money you pay is above average for Barcelona. Even for bad Hostals I paid only 20 EUR less, compared to Banys Orientals, if you like the Hostal rooms with own bathroom. The Hotel has a very nice abstract and cosy style, the breakfast is very good and the service as well. If you get a room to the street it is of corse not very silent, but this is the charme of the mediteranean City of Barcelona. Some small things of course are nice to see, but not very good to use. The lightning of the bathroom indeed should be improved (especially at the sink and mirror), but this wasn´t really a problem. I felt very good \"at home\" in the Banys Orientals rooms. Especially our room had two levels. Entering you could go directly in the bathroom/WC. Going some steps down (wooden steps in the material of the floor, very nice!) there was a hugh bed that was of a good quality. A small balcony to look, what is going on on the street, a big window with good curtains (no light enters at morning!) a small table with nice lamps on it, pictures on the wall - all those things made it overall a nice space to stay. Not very big, but to relax after walks through Barcelona. I will go to BO again. Definitely.</th>\n",
       "      <th>3</th>\n",
       "      <td>2</td>\n",
       "    </tr>\n",
       "    <tr>\n",
       "      <th>We stayed one night in the hotel. Room is very nice. We enjoyed the hot water coming all the time. Room service is adjustable and the food they served as breakfast is nice. you can stay here if you don't imagine for a 5star hotel. Tip. Please beware of monkeys. they always in your balcony.</th>\n",
       "      <th>3</th>\n",
       "      <td>2</td>\n",
       "    </tr>\n",
       "    <tr>\n",
       "      <th>Wonderful experience. Great location, lots of shopping in the area and it was very easy to catch a cab from the hotel. Upon our check in, the staff even gave us a cab card with the address and telephone no.. We stayed in a room with three beds that is super comfy and the room was spacious. The staff will always greet the guests. The front office staff are super hardworking as we always see the same staff on duty during our stay. The staff will always try to fulfill our requests such as giving us additional pillows, they even have option to choose hard or soft pillows. One of the staff, Bella, was very kind to even help us to activate our wifi card and help us call the telco to check why the card is not working. After we check out, I left an item in the room, I was very worried but I was already at the airport so I called them, the front office staff told me she will contact housekeeping to ask if they found anything. Fortunately, they found it after I call them back again. I left my email with them so they contacted me via email and they even took a picture of my lost item to show me that they found it. They even helped to enquire about the shipping fees to send it back for me, which I gladly paid. A lot of hotels would not even bother to go look for the item, much less go through the trouble of sending it back to the guests. I am truly impressed with the service level of the hotel staff. I will definitely make Glow Pratunam my stay in Bangkok in future</th>\n",
       "      <th>4</th>\n",
       "      <td>2</td>\n",
       "    </tr>\n",
       "    <tr>\n",
       "      <th>the best hotel i visited in sharm. clean, beautiful beach and pools, the food is good comparing to other hotels in sharm, there is a show each night, a very beautiful place to do snorkelling and diving. Very nice and helpful and friendly staff and animation</th>\n",
       "      <th>4</th>\n",
       "      <td>2</td>\n",
       "    </tr>\n",
       "    <tr>\n",
       "      <th>very nice hotel at good price. Rooms are clean and spacious, free breakfast and friend staff</th>\n",
       "      <th>4</th>\n",
       "      <td>2</td>\n",
       "    </tr>\n",
       "    <tr>\n",
       "      <th>we stayed for 1 week and it was fab! great location great staff hotel was very clean and the resort of altinkum is beautiful. The beach is only 5 steps from the hotel, all in all can't fault it. oh one complaint our holiday wasn't long enough ! see you soon</th>\n",
       "      <th>4</th>\n",
       "      <td>2</td>\n",
       "    </tr>\n",
       "    <tr>\n",
       "      <th>The hotel is really fantastic, in way of service ,staff, location, cleanliness everythnf was great. We really enjoyed our vacation in this resort. The staff at reception is really very very nice they are really very helpfull &amp; welcoming. Always smile on the face. The welcome drink apple cinnemon was very refreshing. The room was clean &amp; tidy. The view was awsum from the room beach is really nice &amp; alot of option for dine in. If you want to book any restaurant outside or inside bth reception &amp; concierge help alot by giving us good option. Over all i really enjoyed. I will definately come back to this hotel &amp; higly recommend for my family &amp; friends</th>\n",
       "      <th>4</th>\n",
       "      <td>2</td>\n",
       "    </tr>\n",
       "    <tr>\n",
       "      <th>The hotel is real value for money. Rooms are excellent, food is better and service is the best. The decor of the hotel is very attractive and you would want to visit it again and again. The spread of breakfast as well as dinner is huge. You can't even taste everything without bursting your stomach.</th>\n",
       "      <th>4</th>\n",
       "      <td>2</td>\n",
       "    </tr>\n",
       "    <tr>\n",
       "      <th>The hotel has a very good location with a perfect view. The room was quiet and the staff was friendly and helpful. The breakfast was very tasty. We would recommend Hotel Iris to everyone! It is a good choice.</th>\n",
       "      <th>3</th>\n",
       "      <td>2</td>\n",
       "    </tr>\n",
       "    <tr>\n",
       "      <th>The Riad Assakina is an oasis of calm amongst the noise and chaos of the Medina. Grant, Michele and the staff were wonderful and attentive. With plenty of areas to relax and unwind it was a a wonderful experience. The team make your stay very easy and comfortable. With a great feeling of staying in a friends home. Normally we would stay in large hotels but this experience has changed our mind. My wife is coeliac so we were concerned about problems when eating out. We need not have worried as Grant booked tables at the restaurants we had chosen and notified them of the gluten free requirements. Thank you to Grant and Michele for making our 4 night stay just perfect.</th>\n",
       "      <th>4</th>\n",
       "      <td>2</td>\n",
       "    </tr>\n",
       "    <tr>\n",
       "      <th>Despite the wheater was not good during my trip, Atlantis Dive Resort is one of the best places in the world to spend diving holidays. The resort: Well placed in the middle of Sabang Bay. Builded in traditional Philippine style very nice and confortable. Rooms middle size, queen bed, desk, TV, open wardrobe, minibar, shower, complete WC and table with chears in the terrace. The gardens inside and arround the resort are extremely kindly treated. Swiming pool with small waterfall and also prepared for diving courses. Spa very clean and confortable, they offer different massages but, expensive compared with other spa in the neigbourhood. The quality of the massage.. so,so.. Kitchen: Meals are excellent.. fresh fish, salads, pasta, mongolian wok, deserts... everything great... Diving center well organized, friendly and very proessional dive masters, boats, helping crew, service... all 100% OK. Don't forget to spend your afterdive time in their 50Bar in the front sea. The staff, mostly Philipinos, are extremely kind and friendly.</th>\n",
       "      <th>4</th>\n",
       "      <td>2</td>\n",
       "    </tr>\n",
       "    <tr>\n",
       "      <th>For the amount of money the hotel charged, the place was very good. We stayed there for 4 nights and it was very pleasant. There was a technical glitch with the air conditioner but a discount was offered on the final bill. Staff were very polite and breakfast was plenty every morning with many choices. I came across this hotel after reading it in Lonely Planet guide. The hotel is in the centre of San Marco where all things happen. It was ideal to have a base there and then explore wider Venice. Loved the atmosphere of the hotel, friendly staff and the Hotel was in the right in the thick of things. Very good indeed.</th>\n",
       "      <th>3</th>\n",
       "      <td>2</td>\n",
       "    </tr>\n",
       "    <tr>\n",
       "      <th>I find this hotel to be ok. Certainy better than other hotels around its price range in Madrid that I have staied in. The room &amp; bathroom were big. Morning staff also very good. The location is indeed excellent &amp; central, you can come and go to wherever you want from there, walk to everything, right next to thousands of restaurants, bars, shops, next to a subway... the most convenient place to be in Madrid. For those who are scared of the central location (no need to be though) the front door is locked at night and you have to buzz to get in. There was no noise up to the rooms. I don't know why it is called \"high-tech\" because it's not even remotely close to that. with the room comes an IBM laptop. It looks old, but then again I didn't use it to know if it was. WIFI was no-existent in the rooms, to the point that you could not send an email, that was frustrating. When I tried to log in my mobile &amp; my ipad to the wifi I got a message that i can't because of too many users (=2 devices in 1 room). Also, I tried to take an afternoon sleep and the room was freezing. The heat seemed to work great at night though, so maybe they turn the general heat off at noon? I don't know. What really annoyed me is that the bed did not a bedding/duvet. it only had a sheet, like is it possible to sleep in winter with just a sheet??? it was very annoying, I had to use that dreadful blanket all hotels store on the top shelves, which I really hate because it just seems dirty &amp; filthy to me. I also asked for two more blankets, which they send right away, but they were the old, awful-to-touch blankets that did not seem any cleaner (though they might be, I am just describing the feeling they give off). Also the windows only had heavy black curtains to keep away onlookers from the buildings accross the street -which are very near- so all light is blocked. Also, don't expect anything other than the basic bathroom amenities, no sleepers etc. i would recommend it though, these are not big issues, just some things to know before hand.</th>\n",
       "      <th>2</th>\n",
       "      <td>2</td>\n",
       "    </tr>\n",
       "    <tr>\n",
       "      <th>I had stayed at the hotel for 3nights and 4 days.The rooms are fine but they dont provide tea coffee facilty in the room which is diappointing. The breakfast doea not have much variety and is very basic. There is no wifi in the rooms and only in d restaurant area. Their lounge area by the fireplace is great and food is good as well.Do not miss on the swimming pool and jacuzzi. Its near to the disney village which is the only adavantage.But I will not stay again at this lodge.</th>\n",
       "      <th>2</th>\n",
       "      <td>2</td>\n",
       "    </tr>\n",
       "    <tr>\n",
       "      <th>I really want to thank the whole staff from the first minute I entered the hotel ,the welcome of the recepionist and the room he choose for me was so near and the hospitality of the people at the main restaurant.</th>\n",
       "      <th>4</th>\n",
       "      <td>2</td>\n",
       "    </tr>\n",
       "    <tr>\n",
       "      <th>I spent 7 nights there and this place is absolutely lovely. It was my second stay and I was really happy to be there again. Nice hotel with very comfort large rooms, nice swimming pools and lovely staff, especially in the restaurant Joan Manuel and Joan Carlos ( I hope I spell their names correctly).</th>\n",
       "      <th>4</th>\n",
       "      <td>2</td>\n",
       "    </tr>\n",
       "    <tr>\n",
       "      <th>I stayed at this hotel when I was near Tombstone for business. We had stayed here once before, but it has since changed names. It was just as I remembered and I was quite glad we stayed there. The staff were all very friendly and helpful. They will give you a free map at the front and recommend various activities around Tombstone. It was a very enjoyable stay. And it is a beautiful setting!</th>\n",
       "      <th>3</th>\n",
       "      <td>2</td>\n",
       "    </tr>\n",
       "    <tr>\n",
       "      <th>I used the hotel for a client of mine. It is not the first time when I am using this hotel and every time I return gladly. It is probably one of the best hotel in Poiana Brasov. As usual, I was very satisfied with the service provided by the hotel As a result I have organized a great Christmas Party for my client. The service was great service, and all my people enjoyed their stay. The bar in Sportul Hotel is great even the prices are a little bit high. The atmosphere is cozy and nice. Ask for Levy the bartender. You will be happy with his service Rooms in Sportul a bit small but very well appointed, cleanness impeccable, minibar well-appointed and the bathroom is modern and functional. The conference facilities are in accordance with a 4 * hotel, great Spa and treatments. The swimming pool is large and the saunas are great. Ask for Miky from the Spa reception and take her advice .You will not be disappointed. Try the Douche Vichy massage or simply try it an relaxing one. Breakfast service is running very well with good stuff. The buffet dinners with plenty of food. I will definitively return to this hotel.</th>\n",
       "      <th>4</th>\n",
       "      <td>2</td>\n",
       "    </tr>\n",
       "    <tr>\n",
       "      <th>It was a last minute booking for the Id weekend and proved to be very relaxed. The drive from Cochin is tedious, but once you enter the property, its all worth it. The property is set beside the Vembanad lake and has a man made lagoon inside. All rooms and the dining area overlook the lagoon and a few cottages overlook the Lake outside. The pier and the bar are great place for sun sets. There are cycles available if you want to ride around, the area isn't much though for it. The Spa is ok, they claim it to be the biggest in Asia. During our stay, only Lime tree was available since the other restaurant was going through a repair. The menu their is limited and at first glance you do not see many local dishes, esp local sea food fare. However if you ask, the staff and the chef is happy to help with options and happy to cook off the menu too. The Chicken roast and Fish fry were interesting and i loved that they had appams for dinner. Payasam is awesome. Staff is super and from the welcome till check out, they were great throughout. Dony at the Lime Tree is among the best restaurant supervisor, has great knowledge of specialities on and off the menu. All in all, a great experience.</th>\n",
       "      <th>3</th>\n",
       "      <td>2</td>\n",
       "    </tr>\n",
       "    <tr>\n",
       "      <th>It was a very good experience for us. Even if the hotel is dedicated to professionnel customers and meetings, our holidays stay was OK. Maybe not with the (quite) cold architectural atmosphere, but for the nice choice of food, the quite area where the hotel is situated and especially for the great kindness and professionalism of ALL employees. I mean waiters, but also people from the kitchen, the cleaners, the animation team (even if we are not so 'animation' oriented). Most of employees are speaking english which is for the normal tourist a common language (please, people from France, don't think French is THE language to be spoken abroad, told by a french speaking native). Thanks for this nice and restful stay.</th>\n",
       "      <th>3</th>\n",
       "      <td>2</td>\n",
       "    </tr>\n",
       "    <tr>\n",
       "      <th>It was a very good place to stay. Mr Sridhar was the person helping us around in providing a comfortable stay the whole day. Along with good service, room cleanliness, food facility was also too good.I would definitely suggest my friends, family members and relatives for a stay in this place.</th>\n",
       "      <th>3</th>\n",
       "      <td>2</td>\n",
       "    </tr>\n",
       "    <tr>\n",
       "      <th>Pleasant stay with Lovely Memories.... Loving n warm fmly taking care of all our needs... Neat n clean rooms with hot water when needed... Excellent home-made dinner which we looked forward to... Will visit again Noor sahab (Y)</th>\n",
       "      <th>4</th>\n",
       "      <td>2</td>\n",
       "    </tr>\n",
       "    <tr>\n",
       "      <th>Recommended by a friend as a great stop over, we stopped in for one night. Really friendly service, clean big rooms and quiet. We were grateful for the restful night. Very convenient for Weston-super-mare .... would highly re - recommend</th>\n",
       "      <th>4</th>\n",
       "      <td>2</td>\n",
       "    </tr>\n",
       "    <tr>\n",
       "      <th>Stayed at Hotel Costa Colero for 5 nights All inclusive (26th June to 1st July) Having never been to Lanzarote &amp; never experienced all inclusive before (I'm a solo traveller) thought I would join friends who had booked up for week. I was not disappointed....what a fabulous hotel. Can't fault staff in anyway right from day one until I left I never came across anyone who was having a bad day! I emailed ahead to see if I could be on same floor as my friends...no problem. The day before I was due to leave I enquired about a late room....bearing in mind this is height of season &amp; I knew I probably wouldn't be able to keep my room but room I was moved to was great. Okay I never had much of a view but I wasn't in room for long. Food was great. Fab choice. Entertainment was also good. Great location &amp; Puerto Colero is a lovely place full of great restaurants &amp; shops (although I am sure the prices in Puerta Del Carmen would be cheaper) take the river boat to Puerta del Carmen it's a great wee trip. Would I go back? Yes I would (but not in height of summer!)...loved it from start to finish</th>\n",
       "      <th>4</th>\n",
       "      <td>2</td>\n",
       "    </tr>\n",
       "    <tr>\n",
       "      <th>Stayed here for 3 nights and what a brilliant little hotel this is. The staff, the location and everything is just fantastic. There are reviews on here which say the rooms are small. However I believe the rooms are fine, comfortable and for two adults with luggage no problems whatsoever. Breakfast was basic but had stuff for everyone. Clean and stylish. Staff happy to help with everything. Also you can leave your bags in reception until your room is ready. I was a little unsure if this would be ok as didn't want to loose anything however they stay exactly where they are and no problems. Location wise. Bars and restaurants within minutes walking. The tram is located right outside on the main street. Things like dam square and other attractions are within 10-20 minutes walking depending what you want to do. Would definitely recommend this hotel and will definitely be back. Thank you to the staff for a wonderful first visit to Amsterdam. Brilliant</th>\n",
       "      <th>4</th>\n",
       "      <td>2</td>\n",
       "    </tr>\n",
       "    <tr>\n",
       "      <th>what a wounderfull expreice in sterling elk hill resort nice location good veiw good qulity food welll maintained service nice wel come everything aarnge by staff love to visit againe and advice friends and rel.ative to visit there really wounderfull expience</th>\n",
       "      <th>4</th>\n",
       "      <td>2</td>\n",
       "    </tr>\n",
       "  </tbody>\n",
       "</table>\n",
       "</div>"
      ],
      "text/plain": [
       "                                                           count\n",
       "text                                               rating       \n",
       "Absolutely fabulous place. Great service, perfe... 4           2\n",
       "We found this hotel to be great value for money... 3           2\n",
       "The hotel was very comfortable, clean, friendly... 4           2\n",
       "This hotel did not knock my socks off - not by ... 3           2\n",
       "This was my husband and my first week at our Ti... 4           2\n",
       "This was our second time back to this hotel and... 4           2\n",
       "Upon arrival to our destination we instantly fe... 4           2\n",
       "Very good location near Marina , you fiind a lo... 4           2\n",
       "Very nice hotel with restaurant and coffee shop... 4           2\n",
       "We had the pleasure of choosing this hotel on o... 4           2\n",
       "Amazing resort great city. Would like to come b... 4           2\n",
       "We stayed at the Jyoti Mahal for 6 nights at th... 4           2\n",
       "We stayed in Banys for two nights, just to spen... 3           2\n",
       "We stayed one night in the hotel. Room is very ... 3           2\n",
       "Wonderful experience. Great location, lots of s... 4           2\n",
       "the best hotel i visited in sharm. clean, beaut... 4           2\n",
       "very nice hotel at good price. Rooms are clean ... 4           2\n",
       "we stayed for 1 week and it was fab! great loca... 4           2\n",
       "The hotel is really fantastic, in way of servic... 4           2\n",
       "The hotel is real value for money. Rooms are ex... 4           2\n",
       "The hotel has a very good location with a perfe... 3           2\n",
       "The Riad Assakina is an oasis of calm amongst t... 4           2\n",
       "Despite the wheater was not good during my trip... 4           2\n",
       "For the amount of money the hotel charged, the ... 3           2\n",
       "I find this hotel to be ok. Certainy better tha... 2           2\n",
       "I had stayed at the hotel for 3nights and 4 day... 2           2\n",
       "I really want to thank the whole staff from the... 4           2\n",
       "I spent 7 nights there and this place is absolu... 4           2\n",
       "I stayed at this hotel when I was near Tombston... 3           2\n",
       "I used the hotel for a client of mine. It is no... 4           2\n",
       "It was a last minute booking for the Id weekend... 3           2\n",
       "It was a very good experience for us. Even if t... 3           2\n",
       "It was a very good place to stay. Mr Sridhar wa... 3           2\n",
       "Pleasant stay with Lovely Memories.... Loving n... 4           2\n",
       "Recommended by a friend as a great stop over, w... 4           2\n",
       "Stayed at Hotel Costa Colero for 5 nights All i... 4           2\n",
       "Stayed here for 3 nights and what a brilliant l... 4           2\n",
       "what a wounderfull expreice in sterling elk hil... 4           2"
      ]
     },
     "execution_count": 7,
     "metadata": {},
     "output_type": "execute_result"
    }
   ],
   "source": [
    "# show how many duplicates there are\n",
    "\n",
    "duplicates = raw_data.duplicated().sum()\n",
    "print(f\"duplicates: {duplicates}\")\n",
    "\n",
    "# show how many times each dupicate is repeated\n",
    "duplicates = raw_data[raw_data.duplicated(keep=False)].sort_values(by=list(raw_data.columns))\n",
    "duplicates['count'] = 1\n",
    "duplicates = duplicates.groupby(list(raw_data.columns)).count()\n",
    "duplicates = duplicates[duplicates['count'] > 1]\n",
    "duplicates.sort_values(by='count', ascending=False)\n",
    "\n"
   ]
  },
  {
   "cell_type": "code",
   "execution_count": 8,
   "metadata": {},
   "outputs": [
    {
     "data": {
      "text/plain": [
       "38"
      ]
     },
     "execution_count": 8,
     "metadata": {},
     "output_type": "execute_result"
    }
   ],
   "source": [
    "raw_data.duplicated().sum()"
   ]
  },
  {
   "attachments": {},
   "cell_type": "markdown",
   "metadata": {},
   "source": [
    "Mamy 38 rekordów zduplokowanych. Nie jest to dużo, ususniemy je."
   ]
  },
  {
   "cell_type": "code",
   "execution_count": 9,
   "metadata": {},
   "outputs": [],
   "source": [
    "#delete duplicated records\n",
    "raw_data.drop_duplicates(inplace=True)"
   ]
  },
  {
   "attachments": {},
   "cell_type": "markdown",
   "metadata": {},
   "source": [
    "## Dysproporcje w klasach"
   ]
  },
  {
   "cell_type": "code",
   "execution_count": 15,
   "metadata": {},
   "outputs": [
    {
     "data": {
      "image/png": "[encoded data removed]",
      "text/plain": [
       "<Figure size 1200x600 with 1 Axes>"
      ]
     },
     "metadata": {},
     "output_type": "display_data"
    }
   ],
   "source": [
    "# Plot the distribution of the class attribute\n",
    "raw_data['rating'].value_counts().plot(kind='bar', title='Class distribution', xlabel='Class', ylabel='Count', rot=0)\n",
    "\n",
    "## add a procentage value that shows on the top of each bar\n",
    "for i in range(5):\n",
    "    plt.text(i, raw_data['rating'].value_counts()[4-i], f\"{round(raw_data['rating'].value_counts(normalize=True)[4-i]*100, 2)}%\", ha='center', size=15)\n",
    "\n"
   ]
  },
  {
   "cell_type": "code",
   "execution_count": 11,
   "metadata": {},
   "outputs": [],
   "source": [
    "## save the dataset\n",
    "raw_data.to_csv(f\"{dataset}_processed_1M.csv\", index=False)"
   ]
  },
  {
   "attachments": {},
   "cell_type": "markdown",
   "metadata": {},
   "source": [
    "# Wnioski z analizy danych\n",
    "W zbiorze występują znaczne dysproporcje w kontekście dystrybucji atrybutu klasy. Klasa większościową, którą jest klasa reprezentująca opinię pięciogwiazdkową stanowi ponad 50\\% całego zbioru. Jest to zarazem plus jak i minus. Z uwagi na tą dysproporcję sensownym pomysłem będzie jako base-line projektu przyjąć model, który jako predykcję za każdym razem zwraca klasę większościową. Możemy się spodziewać, że statystycznie taki model będzie posiadał celność około 52.49\\% dla zbioru testowego. Dla modeli bardziej skomplikowanych, takich jak transformer RoBERTa, skutki tej dysproporcji muszą zostać zniwelowane poprzez zastosowanie warzenia klas w trakcie nauki. Wprowadzenie tego mechanizmu powinny zmniejszyć przeuczanie się modelu."
   ]
  },
  {
   "cell_type": "markdown",
   "metadata": {},
   "source": [
    "## Zbiór zbalansowany"
   ]
  },
  {
   "cell_type": "code",
   "execution_count": 16,
   "metadata": {},
   "outputs": [
    {
     "data": {
      "image/png": "[encoded data removed]",
      "text/plain": [
       "<Figure size 1200x600 with 1 Axes>"
      ]
     },
     "metadata": {},
     "output_type": "display_data"
    }
   ],
   "source": [
    "# make a new dataset that contains 25k records of each class\n",
    "\n",
    "# get 25k records of each class\n",
    "data = raw_data.groupby('rating').apply(lambda x: x.sample(25000)).reset_index(drop=True)\n",
    "\n",
    "# plot the distribution of the class attribute\n",
    "\n",
    "data['rating'].value_counts().plot(kind='bar', title='Class distribution', xlabel='Class', ylabel='Count', rot=0)\n",
    "\n",
    "## add a procentage value that shows on the top of each bar\n",
    "\n",
    "for i in range(5):\n",
    "    plt.text(i, data['rating'].value_counts()[4-i], f\"{round(data['rating'].value_counts(normalize=True)[4-i]*100, 2)}%\", ha='center', size=15)\n",
    "\n",
    "## save the dataset\n",
    "\n",
    "data.to_csv(f\"../../data/processed/{dataset}_processed_balanced_125k.csv\", index=False)"
   ]
  }
 ],
 "metadata": {
  "kernelspec": {
   "display_name": "ssne-env-python-3-7",
   "language": "python",
   "name": "python3"
  },
  "language_info": {
   "codemirror_mode": {
    "name": "ipython",
    "version": 3
   },
   "file_extension": ".py",
   "mimetype": "text/x-python",
   "name": "python",
   "nbconvert_exporter": "python",
   "pygments_lexer": "ipython3",
   "version": "3.8.6"
  },
  "orig_nbformat": 4
 },
 "nbformat": 4,
 "nbformat_minor": 2
}
